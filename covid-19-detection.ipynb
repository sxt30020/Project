{
 "cells": [
  {
   "cell_type": "markdown",
   "metadata": {},
   "source": [
    "# Importing Required Library"
   ]
  },
  {
   "cell_type": "code",
   "execution_count": 55,
   "metadata": {
    "execution": {
     "iopub.execute_input": "2022-12-05T13:38:43.320655Z",
     "iopub.status.busy": "2022-12-05T13:38:43.320260Z",
     "iopub.status.idle": "2022-12-05T13:38:43.326934Z",
     "shell.execute_reply": "2022-12-05T13:38:43.325827Z",
     "shell.execute_reply.started": "2022-12-05T13:38:43.320622Z"
    },
    "scrolled": true
   },
   "outputs": [],
   "source": [
    "import numpy as np\n",
    "import pandas as pd\n",
    "import os\n",
    "import matplotlib.pyplot as plt\n",
    "from time import time\n",
    "from PIL import Image\n",
    "from sklearn.model_selection import GridSearchCV\n",
    "from sklearn.metrics import classification_report\n",
    "from sklearn.metrics import confusion_matrix\n",
    "from sklearn.model_selection import train_test_split\n",
    "from sklearn.decomposition import PCA\n",
    "from sklearn.svm import SVC\n",
    "import seaborn as sns"
   ]
  },
  {
   "cell_type": "markdown",
   "metadata": {},
   "source": [
    "# Data Import And Read"
   ]
  },
  {
   "cell_type": "code",
   "execution_count": 56,
   "metadata": {
    "execution": {
     "iopub.execute_input": "2022-12-05T13:38:43.334813Z",
     "iopub.status.busy": "2022-12-05T13:38:43.334496Z",
     "iopub.status.idle": "2022-12-05T13:38:43.338981Z",
     "shell.execute_reply": "2022-12-05T13:38:43.337864Z",
     "shell.execute_reply.started": "2022-12-05T13:38:43.334776Z"
    }
   },
   "outputs": [],
   "source": [
    "# import os\n",
    "# for dirname, _, filenames in os.walk('../input/covid19-image-dataset/Covid19-dataset'):\n",
    "#     for filename in filenames:\n",
    "#         print(os.path.join(dirname, filename))"
   ]
  },
  {
   "cell_type": "code",
   "execution_count": 57,
   "metadata": {
    "execution": {
     "iopub.execute_input": "2022-12-05T13:38:43.361774Z",
     "iopub.status.busy": "2022-12-05T13:38:43.361301Z",
     "iopub.status.idle": "2022-12-05T13:38:43.367495Z",
     "shell.execute_reply": "2022-12-05T13:38:43.366457Z",
     "shell.execute_reply.started": "2022-12-05T13:38:43.361743Z"
    }
   },
   "outputs": [
    {
     "name": "stdout",
     "output_type": "stream",
     "text": [
      "['Covid', 'Normal', 'Viral Pneumonia']\n"
     ]
    }
   ],
   "source": [
    "train_path = \"../input/covid19-image-dataset/Covid19-dataset/train\"\n",
    "val_path = \"../input/covid19-image-dataset/Covid19-dataset/test\"\n",
    "types = ['Covid','Normal','Viral Pneumonia']\n",
    "print(types)\n"
   ]
  },
  {
   "cell_type": "markdown",
   "metadata": {},
   "source": [
    "# Data Preprocess"
   ]
  },
  {
   "cell_type": "code",
   "execution_count": 58,
   "metadata": {
    "execution": {
     "iopub.execute_input": "2022-12-05T13:38:43.382085Z",
     "iopub.status.busy": "2022-12-05T13:38:43.380084Z",
     "iopub.status.idle": "2022-12-05T13:38:56.645032Z",
     "shell.execute_reply": "2022-12-05T13:38:56.643947Z",
     "shell.execute_reply.started": "2022-12-05T13:38:43.382054Z"
    }
   },
   "outputs": [
    {
     "name": "stderr",
     "output_type": "stream",
     "text": [
      "/opt/conda/lib/python3.7/site-packages/ipykernel_launcher.py:8: DeprecationWarning: ANTIALIAS is deprecated and will be removed in Pillow 10 (2023-07-01). Use Resampling.LANCZOS instead.\n",
      "  \n"
     ]
    }
   ],
   "source": [
    "train_images = []\n",
    "train_labels = []\n",
    "mappings =  {'Covid':0,'Normal':1,'Viral Pneumonia':2}\n",
    "for t in types:\n",
    "    images = os.listdir(train_path +'/'+ t)\n",
    "    for img_path in images:\n",
    "        img = Image.open(train_path + '/' + t + '/' + img_path).convert('L')\n",
    "        img = img.resize((50,50), Image.ANTIALIAS)\n",
    "        img = np.asarray(img)/255\n",
    "        train_images.append(img)\n",
    "        train_labels.append(mappings[t])"
   ]
  },
  {
   "cell_type": "code",
   "execution_count": 59,
   "metadata": {
    "execution": {
     "iopub.execute_input": "2022-12-05T13:38:56.647600Z",
     "iopub.status.busy": "2022-12-05T13:38:56.647160Z",
     "iopub.status.idle": "2022-12-05T13:38:58.473051Z",
     "shell.execute_reply": "2022-12-05T13:38:58.471994Z",
     "shell.execute_reply.started": "2022-12-05T13:38:56.647528Z"
    }
   },
   "outputs": [
    {
     "name": "stderr",
     "output_type": "stream",
     "text": [
      "/opt/conda/lib/python3.7/site-packages/ipykernel_launcher.py:8: DeprecationWarning: ANTIALIAS is deprecated and will be removed in Pillow 10 (2023-07-01). Use Resampling.LANCZOS instead.\n",
      "  \n"
     ]
    }
   ],
   "source": [
    "val_images = []\n",
    "val_labels = []\n",
    "mappings =  {'Covid':0,'Normal':1,'Viral Pneumonia':2}\n",
    "for t in types:\n",
    "    images = os.listdir(val_path +'/'+ t)\n",
    "    for img_path in images:\n",
    "        img = Image.open(val_path +'/'+ t + '/' + img_path).convert('L')\n",
    "        img = img.resize((50,50), Image.ANTIALIAS)\n",
    "        img = np.asarray(img)/255\n",
    "        val_images.append(img)\n",
    "        val_labels.append(mappings[t])"
   ]
  },
  {
   "cell_type": "markdown",
   "metadata": {},
   "source": [
    "# DataSplit and verification"
   ]
  },
  {
   "cell_type": "code",
   "execution_count": 60,
   "metadata": {
    "execution": {
     "iopub.execute_input": "2022-12-05T13:38:58.474819Z",
     "iopub.status.busy": "2022-12-05T13:38:58.474432Z",
     "iopub.status.idle": "2022-12-05T13:38:58.483746Z",
     "shell.execute_reply": "2022-12-05T13:38:58.482464Z",
     "shell.execute_reply.started": "2022-12-05T13:38:58.474782Z"
    }
   },
   "outputs": [],
   "source": [
    "X_train = np.stack(train_images,axis=0)\n",
    "y_train = train_labels\n",
    "X_test = np.stack(val_images,axis=0)\n",
    "y_test = val_labels\n"
   ]
  },
  {
   "cell_type": "code",
   "execution_count": 61,
   "metadata": {
    "execution": {
     "iopub.execute_input": "2022-12-05T13:38:58.488071Z",
     "iopub.status.busy": "2022-12-05T13:38:58.487652Z",
     "iopub.status.idle": "2022-12-05T13:38:58.495466Z",
     "shell.execute_reply": "2022-12-05T13:38:58.494339Z",
     "shell.execute_reply.started": "2022-12-05T13:38:58.488020Z"
    }
   },
   "outputs": [
    {
     "data": {
      "text/plain": [
       "(251, 50, 50)"
      ]
     },
     "execution_count": 61,
     "metadata": {},
     "output_type": "execute_result"
    }
   ],
   "source": [
    "X_train.shape"
   ]
  },
  {
   "cell_type": "markdown",
   "metadata": {},
   "source": [
    "# Data Visualization"
   ]
  },
  {
   "cell_type": "code",
   "execution_count": 62,
   "metadata": {
    "execution": {
     "iopub.execute_input": "2022-12-05T13:38:58.497706Z",
     "iopub.status.busy": "2022-12-05T13:38:58.497204Z",
     "iopub.status.idle": "2022-12-05T13:38:58.691400Z",
     "shell.execute_reply": "2022-12-05T13:38:58.690451Z",
     "shell.execute_reply.started": "2022-12-05T13:38:58.497670Z"
    }
   },
   "outputs": [
    {
     "data": {
      "text/plain": [
       "<matplotlib.image.AxesImage at 0x7fbbe377d350>"
      ]
     },
     "execution_count": 62,
     "metadata": {},
     "output_type": "execute_result"
    },
    {
     "data": {
      "image/png": "[encoded data removed]",
      "text/plain": [
       "<Figure size 432x288 with 1 Axes>"
      ]
     },
     "metadata": {
      "needs_background": "light"
     },
     "output_type": "display_data"
    }
   ],
   "source": [
    "dim = (50,50)\n",
    "plt.imshow(X_train[0],cmap='gray')"
   ]
  },
  {
   "cell_type": "code",
   "execution_count": 63,
   "metadata": {
    "execution": {
     "iopub.execute_input": "2022-12-05T13:38:58.693676Z",
     "iopub.status.busy": "2022-12-05T13:38:58.693015Z",
     "iopub.status.idle": "2022-12-05T13:38:58.698645Z",
     "shell.execute_reply": "2022-12-05T13:38:58.697537Z",
     "shell.execute_reply.started": "2022-12-05T13:38:58.693635Z"
    }
   },
   "outputs": [],
   "source": [
    "X_train = X_train.reshape(len(y_train),-1)\n",
    "X_test = X_test.reshape(len(y_test),-1)"
   ]
  },
  {
   "cell_type": "markdown",
   "metadata": {},
   "source": [
    "# PCA Feature Extraction"
   ]
  },
  {
   "cell_type": "code",
   "execution_count": 64,
   "metadata": {
    "execution": {
     "iopub.execute_input": "2022-12-05T13:38:58.701056Z",
     "iopub.status.busy": "2022-12-05T13:38:58.699984Z",
     "iopub.status.idle": "2022-12-05T13:38:58.971052Z",
     "shell.execute_reply": "2022-12-05T13:38:58.969479Z",
     "shell.execute_reply.started": "2022-12-05T13:38:58.701015Z"
    }
   },
   "outputs": [
    {
     "data": {
      "text/plain": [
       "PCA(n_components=150)"
      ]
     },
     "execution_count": 64,
     "metadata": {},
     "output_type": "execute_result"
    }
   ],
   "source": [
    "pca = PCA(n_components=150)\n",
    "pca.fit(X_train)"
   ]
  },
  {
   "cell_type": "code",
   "execution_count": 65,
   "metadata": {
    "execution": {
     "iopub.execute_input": "2022-12-05T13:38:58.973172Z",
     "iopub.status.busy": "2022-12-05T13:38:58.972825Z",
     "iopub.status.idle": "2022-12-05T13:38:59.000798Z",
     "shell.execute_reply": "2022-12-05T13:38:58.999473Z",
     "shell.execute_reply.started": "2022-12-05T13:38:58.973139Z"
    }
   },
   "outputs": [],
   "source": [
    "X_train_pca = pca.transform(X_train)\n",
    "X_test_pca = pca.transform(X_test)"
   ]
  },
  {
   "cell_type": "code",
   "execution_count": 66,
   "metadata": {
    "execution": {
     "iopub.execute_input": "2022-12-05T13:38:59.003275Z",
     "iopub.status.busy": "2022-12-05T13:38:59.002894Z",
     "iopub.status.idle": "2022-12-05T13:38:59.014367Z",
     "shell.execute_reply": "2022-12-05T13:38:59.013061Z",
     "shell.execute_reply.started": "2022-12-05T13:38:59.003240Z"
    }
   },
   "outputs": [
    {
     "data": {
      "text/plain": [
       "(251, 150)"
      ]
     },
     "execution_count": 66,
     "metadata": {},
     "output_type": "execute_result"
    }
   ],
   "source": [
    "X_train_pca.shape"
   ]
  },
  {
   "cell_type": "markdown",
   "metadata": {},
   "source": [
    "# SVM Classifier algorithm"
   ]
  },
  {
   "cell_type": "code",
   "execution_count": 67,
   "metadata": {
    "execution": {
     "iopub.execute_input": "2022-12-05T13:38:59.023828Z",
     "iopub.status.busy": "2022-12-05T13:38:59.022322Z",
     "iopub.status.idle": "2022-12-05T13:38:59.049666Z",
     "shell.execute_reply": "2022-12-05T13:38:59.048288Z",
     "shell.execute_reply.started": "2022-12-05T13:38:59.023788Z"
    }
   },
   "outputs": [
    {
     "data": {
      "text/plain": [
       "SVC(kernel='linear', random_state=0)"
      ]
     },
     "execution_count": 67,
     "metadata": {},
     "output_type": "execute_result"
    }
   ],
   "source": [
    "from sklearn.svm import SVC # \"Support vector classifier\"  \n",
    "classifier = SVC(kernel='linear', random_state=0)  \n",
    "classifier.fit(X_train_pca, y_train)  "
   ]
  },
  {
   "cell_type": "code",
   "execution_count": 68,
   "metadata": {
    "execution": {
     "iopub.execute_input": "2022-12-05T13:38:59.053987Z",
     "iopub.status.busy": "2022-12-05T13:38:59.052352Z",
     "iopub.status.idle": "2022-12-05T13:38:59.063484Z",
     "shell.execute_reply": "2022-12-05T13:38:59.062218Z",
     "shell.execute_reply.started": "2022-12-05T13:38:59.053949Z"
    }
   },
   "outputs": [],
   "source": [
    "#Predicting the test set result  \n",
    "y_pred= classifier.predict(X_test_pca)  "
   ]
  },
  {
   "cell_type": "code",
   "execution_count": 69,
   "metadata": {
    "execution": {
     "iopub.execute_input": "2022-12-05T13:38:59.067392Z",
     "iopub.status.busy": "2022-12-05T13:38:59.065967Z",
     "iopub.status.idle": "2022-12-05T13:38:59.077586Z",
     "shell.execute_reply": "2022-12-05T13:38:59.076345Z",
     "shell.execute_reply.started": "2022-12-05T13:38:59.067355Z"
    }
   },
   "outputs": [
    {
     "name": "stdout",
     "output_type": "stream",
     "text": [
      "accuracy Score --> 86.36363636363636\n"
     ]
    }
   ],
   "source": [
    "from sklearn.metrics import accuracy_score\n",
    "print(\"accuracy Score -->\",accuracy_score(y_test,y_pred)*100)"
   ]
  },
  {
   "cell_type": "markdown",
   "metadata": {},
   "source": [
    "# Classification Report"
   ]
  },
  {
   "cell_type": "code",
   "execution_count": 70,
   "metadata": {
    "execution": {
     "iopub.execute_input": "2022-12-05T13:38:59.080286Z",
     "iopub.status.busy": "2022-12-05T13:38:59.079507Z",
     "iopub.status.idle": "2022-12-05T13:38:59.096110Z",
     "shell.execute_reply": "2022-12-05T13:38:59.095080Z",
     "shell.execute_reply.started": "2022-12-05T13:38:59.080245Z"
    }
   },
   "outputs": [
    {
     "name": "stdout",
     "output_type": "stream",
     "text": [
      "              precision    recall  f1-score   support\n",
      "\n",
      "           0       0.89      0.92      0.91        26\n",
      "           1       0.85      0.85      0.85        20\n",
      "           2       0.84      0.80      0.82        20\n",
      "\n",
      "    accuracy                           0.86        66\n",
      "   macro avg       0.86      0.86      0.86        66\n",
      "weighted avg       0.86      0.86      0.86        66\n",
      "\n"
     ]
    }
   ],
   "source": [
    "from sklearn.metrics import classification_report\n",
    "print(classification_report(y_test, y_pred))"
   ]
  },
  {
   "cell_type": "markdown",
   "metadata": {},
   "source": [
    "# Confusion Matrix"
   ]
  },
  {
   "cell_type": "code",
   "execution_count": 71,
   "metadata": {
    "execution": {
     "iopub.execute_input": "2022-12-05T13:38:59.098364Z",
     "iopub.status.busy": "2022-12-05T13:38:59.097719Z",
     "iopub.status.idle": "2022-12-05T13:38:59.106882Z",
     "shell.execute_reply": "2022-12-05T13:38:59.105493Z",
     "shell.execute_reply.started": "2022-12-05T13:38:59.098325Z"
    }
   },
   "outputs": [],
   "source": [
    "from sklearn.metrics import confusion_matrix  \n",
    "cm= confusion_matrix(y_test, y_pred)  "
   ]
  },
  {
   "cell_type": "code",
   "execution_count": 72,
   "metadata": {
    "execution": {
     "iopub.execute_input": "2022-12-05T13:38:59.109833Z",
     "iopub.status.busy": "2022-12-05T13:38:59.109075Z",
     "iopub.status.idle": "2022-12-05T13:38:59.369105Z",
     "shell.execute_reply": "2022-12-05T13:38:59.368042Z",
     "shell.execute_reply.started": "2022-12-05T13:38:59.109794Z"
    }
   },
   "outputs": [
    {
     "data": {
      "text/plain": [
       "<AxesSubplot:>"
      ]
     },
     "execution_count": 72,
     "metadata": {},
     "output_type": "execute_result"
    },
    {
     "data": {
      "image/png": "[encoded data removed]",
      "text/plain": [
       "<Figure size 432x288 with 2 Axes>"
      ]
     },
     "metadata": {
      "needs_background": "light"
     },
     "output_type": "display_data"
    }
   ],
   "source": [
    "\n",
    "sns.heatmap(cm, annot=True)"
   ]
  },
  {
   "cell_type": "markdown",
   "metadata": {},
   "source": [
    "# XGBoost Classifier"
   ]
  },
  {
   "cell_type": "code",
   "execution_count": 73,
   "metadata": {
    "execution": {
     "iopub.execute_input": "2022-12-05T13:38:59.371146Z",
     "iopub.status.busy": "2022-12-05T13:38:59.370770Z",
     "iopub.status.idle": "2022-12-05T13:38:59.377400Z",
     "shell.execute_reply": "2022-12-05T13:38:59.375077Z",
     "shell.execute_reply.started": "2022-12-05T13:38:59.371113Z"
    }
   },
   "outputs": [],
   "source": [
    "from xgboost import XGBClassifier"
   ]
  },
  {
   "cell_type": "code",
   "execution_count": 74,
   "metadata": {
    "execution": {
     "iopub.execute_input": "2022-12-05T13:38:59.380359Z",
     "iopub.status.busy": "2022-12-05T13:38:59.379539Z",
     "iopub.status.idle": "2022-12-05T13:38:59.821672Z",
     "shell.execute_reply": "2022-12-05T13:38:59.820922Z",
     "shell.execute_reply.started": "2022-12-05T13:38:59.380317Z"
    }
   },
   "outputs": [
    {
     "data": {
      "text/plain": [
       "XGBClassifier(base_score=0.5, booster='gbtree', callbacks=None,\n",
       "              colsample_bylevel=1, colsample_bynode=1, colsample_bytree=1,\n",
       "              early_stopping_rounds=None, enable_categorical=False,\n",
       "              eval_metric=None, gamma=0, gpu_id=-1, grow_policy='depthwise',\n",
       "              importance_type=None, interaction_constraints='',\n",
       "              learning_rate=0.300000012, max_bin=256, max_cat_to_onehot=4,\n",
       "              max_delta_step=0, max_depth=6, max_leaves=0, min_child_weight=1,\n",
       "              missing=nan, monotone_constraints='()', n_estimators=100,\n",
       "              n_jobs=0, num_parallel_tree=1, objective='multi:softprob',\n",
       "              predictor='auto', random_state=0, reg_alpha=0, ...)"
      ]
     },
     "execution_count": 74,
     "metadata": {},
     "output_type": "execute_result"
    }
   ],
   "source": [
    "classifier = XGBClassifier()\n",
    "classifier.fit(X_train_pca, y_train)"
   ]
  },
  {
   "cell_type": "code",
   "execution_count": 75,
   "metadata": {
    "execution": {
     "iopub.execute_input": "2022-12-05T13:38:59.827091Z",
     "iopub.status.busy": "2022-12-05T13:38:59.824968Z",
     "iopub.status.idle": "2022-12-05T13:38:59.836521Z",
     "shell.execute_reply": "2022-12-05T13:38:59.835619Z",
     "shell.execute_reply.started": "2022-12-05T13:38:59.827058Z"
    }
   },
   "outputs": [
    {
     "name": "stdout",
     "output_type": "stream",
     "text": [
      "accuracy Score --> 81.81818181818183\n"
     ]
    }
   ],
   "source": [
    "#Predicting the test set result  \n",
    "y_pred= classifier.predict(X_test_pca)  \n",
    "from sklearn.metrics import accuracy_score\n",
    "print(\"accuracy Score -->\",accuracy_score(y_test,y_pred)*100)"
   ]
  },
  {
   "cell_type": "markdown",
   "metadata": {},
   "source": [
    "# Classification Report"
   ]
  },
  {
   "cell_type": "code",
   "execution_count": 76,
   "metadata": {
    "execution": {
     "iopub.execute_input": "2022-12-05T13:38:59.840816Z",
     "iopub.status.busy": "2022-12-05T13:38:59.840204Z",
     "iopub.status.idle": "2022-12-05T13:38:59.854284Z",
     "shell.execute_reply": "2022-12-05T13:38:59.853346Z",
     "shell.execute_reply.started": "2022-12-05T13:38:59.840784Z"
    }
   },
   "outputs": [
    {
     "name": "stdout",
     "output_type": "stream",
     "text": [
      "              precision    recall  f1-score   support\n",
      "\n",
      "           0       0.92      0.92      0.92        26\n",
      "           1       0.81      0.65      0.72        20\n",
      "           2       0.71      0.85      0.77        20\n",
      "\n",
      "    accuracy                           0.82        66\n",
      "   macro avg       0.81      0.81      0.81        66\n",
      "weighted avg       0.82      0.82      0.82        66\n",
      "\n"
     ]
    }
   ],
   "source": [
    "from sklearn.metrics import classification_report\n",
    "print(classification_report(y_test, y_pred))"
   ]
  },
  {
   "cell_type": "markdown",
   "metadata": {},
   "source": [
    "# Confusion Matrix"
   ]
  },
  {
   "cell_type": "code",
   "execution_count": 77,
   "metadata": {
    "execution": {
     "iopub.execute_input": "2022-12-05T13:38:59.856532Z",
     "iopub.status.busy": "2022-12-05T13:38:59.856142Z",
     "iopub.status.idle": "2022-12-05T13:39:00.139771Z",
     "shell.execute_reply": "2022-12-05T13:39:00.138620Z",
     "shell.execute_reply.started": "2022-12-05T13:38:59.856498Z"
    }
   },
   "outputs": [
    {
     "data": {
      "text/plain": [
       "<AxesSubplot:>"
      ]
     },
     "execution_count": 77,
     "metadata": {},
     "output_type": "execute_result"
    },
    {
     "data": {
      "image/png": "[encoded data removed]",
      "text/plain": [
       "<Figure size 432x288 with 2 Axes>"
      ]
     },
     "metadata": {
      "needs_background": "light"
     },
     "output_type": "display_data"
    }
   ],
   "source": [
    "from sklearn.metrics import confusion_matrix  \n",
    "cm= confusion_matrix(y_test, y_pred)  \n",
    "sns.heatmap(cm, annot=True)"
   ]
  },
  {
   "cell_type": "code",
   "execution_count": 78,
   "metadata": {
    "execution": {
     "iopub.execute_input": "2022-12-05T13:39:00.143663Z",
     "iopub.status.busy": "2022-12-05T13:39:00.141933Z",
     "iopub.status.idle": "2022-12-05T13:39:00.147996Z",
     "shell.execute_reply": "2022-12-05T13:39:00.146777Z",
     "shell.execute_reply.started": "2022-12-05T13:39:00.143610Z"
    }
   },
   "outputs": [],
   "source": [
    "#Dataset\n",
    "#https://www.kaggle.com/datasets/pranavraikokte/covid19-image-dataset/versions/2"
   ]
  },
  {
   "cell_type": "markdown",
   "metadata": {},
   "source": [
    "# BaggingClassifier"
   ]
  },
  {
   "cell_type": "code",
   "execution_count": 79,
   "metadata": {
    "execution": {
     "iopub.execute_input": "2022-12-05T13:39:00.155547Z",
     "iopub.status.busy": "2022-12-05T13:39:00.154119Z",
     "iopub.status.idle": "2022-12-05T13:39:00.169269Z",
     "shell.execute_reply": "2022-12-05T13:39:00.168056Z",
     "shell.execute_reply.started": "2022-12-05T13:39:00.155508Z"
    }
   },
   "outputs": [],
   "source": [
    "from sklearn.ensemble import BaggingClassifier"
   ]
  },
  {
   "cell_type": "code",
   "execution_count": 80,
   "metadata": {
    "execution": {
     "iopub.execute_input": "2022-12-05T13:39:00.171747Z",
     "iopub.status.busy": "2022-12-05T13:39:00.171083Z",
     "iopub.status.idle": "2022-12-05T13:39:00.255916Z",
     "shell.execute_reply": "2022-12-05T13:39:00.254732Z",
     "shell.execute_reply.started": "2022-12-05T13:39:00.171710Z"
    }
   },
   "outputs": [
    {
     "data": {
      "text/plain": [
       "BaggingClassifier(base_estimator=SVC(), random_state=0)"
      ]
     },
     "execution_count": 80,
     "metadata": {},
     "output_type": "execute_result"
    }
   ],
   "source": [
    "clf = BaggingClassifier(base_estimator=SVC(),n_estimators=10, random_state=0)\n",
    "clf.fit(X_train_pca, y_train)"
   ]
  },
  {
   "cell_type": "code",
   "execution_count": 81,
   "metadata": {
    "execution": {
     "iopub.execute_input": "2022-12-05T13:39:00.260091Z",
     "iopub.status.busy": "2022-12-05T13:39:00.259727Z",
     "iopub.status.idle": "2022-12-05T13:39:00.303105Z",
     "shell.execute_reply": "2022-12-05T13:39:00.302164Z",
     "shell.execute_reply.started": "2022-12-05T13:39:00.260058Z"
    }
   },
   "outputs": [
    {
     "name": "stdout",
     "output_type": "stream",
     "text": [
      "accuracy Score --> 81.81818181818183\n"
     ]
    }
   ],
   "source": [
    "#Predicting the test set result  \n",
    "y_pred= clf.predict(X_test_pca)  \n",
    "from sklearn.metrics import accuracy_score\n",
    "print(\"accuracy Score -->\",accuracy_score(y_test,y_pred)*100)"
   ]
  },
  {
   "cell_type": "markdown",
   "metadata": {},
   "source": [
    "# classification report"
   ]
  },
  {
   "cell_type": "code",
   "execution_count": 82,
   "metadata": {
    "execution": {
     "iopub.execute_input": "2022-12-05T13:39:00.305429Z",
     "iopub.status.busy": "2022-12-05T13:39:00.304781Z",
     "iopub.status.idle": "2022-12-05T13:39:00.324114Z",
     "shell.execute_reply": "2022-12-05T13:39:00.318319Z",
     "shell.execute_reply.started": "2022-12-05T13:39:00.305391Z"
    }
   },
   "outputs": [
    {
     "name": "stdout",
     "output_type": "stream",
     "text": [
      "              precision    recall  f1-score   support\n",
      "\n",
      "           0       0.92      0.85      0.88        26\n",
      "           1       0.76      0.80      0.78        20\n",
      "           2       0.76      0.80      0.78        20\n",
      "\n",
      "    accuracy                           0.82        66\n",
      "   macro avg       0.81      0.82      0.81        66\n",
      "weighted avg       0.82      0.82      0.82        66\n",
      "\n"
     ]
    }
   ],
   "source": [
    "from sklearn.metrics import classification_report\n",
    "print(classification_report(y_test, y_pred))"
   ]
  },
  {
   "cell_type": "markdown",
   "metadata": {},
   "source": [
    "# confusion matrix"
   ]
  },
  {
   "cell_type": "code",
   "execution_count": 83,
   "metadata": {
    "execution": {
     "iopub.execute_input": "2022-12-05T13:39:00.325526Z",
     "iopub.status.busy": "2022-12-05T13:39:00.325234Z",
     "iopub.status.idle": "2022-12-05T13:39:00.662368Z",
     "shell.execute_reply": "2022-12-05T13:39:00.661497Z",
     "shell.execute_reply.started": "2022-12-05T13:39:00.325500Z"
    }
   },
   "outputs": [
    {
     "data": {
      "text/plain": [
       "<AxesSubplot:>"
      ]
     },
     "execution_count": 83,
     "metadata": {},
     "output_type": "execute_result"
    },
    {
     "data": {
      "image/png": "[encoded data removed]",
      "text/plain": [
       "<Figure size 432x288 with 2 Axes>"
      ]
     },
     "metadata": {
      "needs_background": "light"
     },
     "output_type": "display_data"
    }
   ],
   "source": [
    "from sklearn.metrics import confusion_matrix  \n",
    "cm= confusion_matrix(y_test, y_pred)  \n",
    "sns.heatmap(cm, annot=True)"
   ]
  }
 ],
 "metadata": {
  "kernelspec": {
   "display_name": "Python 3 (ipykernel)",
   "language": "python",
   "name": "python3"
  },
  "language_info": {
   "codemirror_mode": {
    "name": "ipython",
    "version": 3
   },
   "file_extension": ".py",
   "mimetype": "text/x-python",
   "name": "python",
   "nbconvert_exporter": "python",
   "pygments_lexer": "ipython3",
   "version": "3.10.7"
  }
 },
 "nbformat": 4,
 "nbformat_minor": 4
}
